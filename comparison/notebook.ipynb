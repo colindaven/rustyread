{
 "cells": [
  {
   "cell_type": "markdown",
   "metadata": {},
   "source": [
    "# Rustyread analysis"
   ]
  },
  {
   "cell_type": "markdown",
   "metadata": {},
   "source": [
    "## Compare read generation\n",
    "\n",
    "Run `snakemake --use-conda -j {numbre of job} {your option} data/compare/rustyread.paf data/compare/badread.paf data/real_read.paf` before run next cells"
   ]
  },
  {
   "cell_type": "markdown",
   "metadata": {},
   "source": [
    "### Read length"
   ]
  },
  {
   "cell_type": "code",
   "execution_count": null,
   "metadata": {},
   "outputs": [],
   "source": [
    "import pandas\n",
    "import altair\n",
    "\n",
    "altair.data_transformers.disable_max_rows()\n",
    "\n",
    "def get_length(path):\n",
    "    with open(path) as fh:\n",
    "        line_count = 0\n",
    "        for line in fh:\n",
    "            line_count += 1\n",
    "            if line_count % 2 == 0:\n",
    "                yield len(line)\n",
    "\n",
    "data = [('real', x) for x in get_length(\"data/real_reads.fastq\")]\n",
    "data += [('rustyread', x) for x in get_length(\"data/compare/rustyread.fastq\")]\n",
    "#data += [('badread', x) for x in get_length(\"data/compare/rustyread.fastq\")]\n",
    "\n",
    "df = pandas.DataFrame(data, columns=[\"origin\", \"length\"])\n",
    "\n",
    "print(df.groupby(\"origin\").count())\n",
    "print(df.groupby(\"origin\").mean())\n",
    "print(df.groupby(\"origin\").std())\n",
    "\n",
    "altair.Chart(df).mark_bar().encode(\n",
    "    x=altair.X(\"length\", bin=altair.Bin(maxbins=200)),\n",
    "    y='count()',\n",
    "    color='origin',\n",
    ").interactive()"
   ]
  },
  {
   "cell_type": "markdown",
   "metadata": {},
   "source": [
    "### Read identity"
   ]
  },
  {
   "cell_type": "code",
   "execution_count": null,
   "metadata": {},
   "outputs": [],
   "source": [
    "import pandas\n",
    "import altair\n",
    "\n",
    "altair.data_transformers.disable_max_rows()\n",
    "\n",
    "def get_identity(path):\n",
    "    with open(path) as fh:\n",
    "        for line in fh:\n",
    "            line = line.split(\"\\t\")\n",
    "            nm = int([e.split(\":\")[2] for e in line if e.startswith(\"NM:i:\")][0])\n",
    "            yield 1 - nm / int(line[1])\n",
    "\n",
    "data = [('real', x) for x in get_identity(\"data/real_reads.paf\")]\n",
    "data += [('rustyread', x) for x in get_identity(\"data/compare/rustyread.paf\")]\n",
    "#data += [('badread', x) for x in get_identity(\"data/compare/badread.paf\")]\n",
    "\n",
    "df = pandas.DataFrame(data, columns=[\"origin\", \"identity\"])\n",
    "\n",
    "altair.Chart(df).mark_bar().encode(\n",
    "    x=altair.X(\"identity\", bin=altair.Bin(maxbins=200)),\n",
    "    y='count()',\n",
    "    color='origin',\n",
    ").interactive()"
   ]
  },
  {
   "cell_type": "markdown",
   "metadata": {},
   "source": [
    "### Quality"
   ]
  },
  {
   "cell_type": "code",
   "execution_count": null,
   "metadata": {},
   "outputs": [],
   "source": [
    "import pandas\n",
    "import altair\n",
    "from collections import Counter\n",
    "\n",
    "altair.data_transformers.disable_max_rows()\n",
    "\n",
    "def get_qual(path):\n",
    "    with open(path) as fh:\n",
    "        line_count = 0\n",
    "        for line in fh:\n",
    "            line_count += 1\n",
    "            if line_count % 4 == 0:\n",
    "                for q in line:\n",
    "                    yield ord(q) - 33\n",
    "    \n",
    "tmp = Counter(get_qual(\"data/real_reads.fastq\"))\n",
    "data = [(\"real\", i, tmp[i]) for i in sorted(tmp.keys()) if i > 0]\n",
    "\n",
    "tmp = Counter(get_qual(\"data/compare/rustyread.fastq\"))\n",
    "data += [(\"rustyread\", i, tmp[i]) for i in sorted(tmp.keys()) if i > 0]\n",
    "\n",
    "#tmp = Counter(get_qual(\"data/compare/badread.fastq\"))\n",
    "#data += [(\"badread\", i, tmp[i]) for i in sorted(tmp.keys()) if i > 0]\n",
    "\n",
    "df = pandas.DataFrame(data, columns=[\"origin\", \"x\", \"y\"])\n",
    "\n",
    "altair.Chart(df).mark_bar().encode(\n",
    "    x='x',\n",
    "    y='y',\n",
    "    color='origin',\n",
    ")"
   ]
  },
  {
   "cell_type": "markdown",
   "metadata": {},
   "source": [
    "## Thread scalability\n",
    "\n",
    "Run `snakemake --use-conda -j 1 {your option} -R ms_all` before run next cell"
   ]
  },
  {
   "cell_type": "code",
   "execution_count": null,
   "metadata": {},
   "outputs": [],
   "source": [
    "import os\n",
    "import re\n",
    "import altair\n",
    "import pandas\n",
    "\n",
    "data = list()\n",
    "with os.scandir(\"benchmarks/ms/\") as it:\n",
    "    for entry in it:\n",
    "        if entry.is_file() and entry.name.startswith(\"rustyread_t\"):\n",
    "            threads = int(re.search(\"rustyread_t(\\d+).tsv\", entry.name).group(1))\n",
    "            with open(entry.path) as fh:\n",
    "                next(fh)\n",
    "                for line in fh:\n",
    "                    wall_time = float(line.split(\"\\t\")[0])\n",
    "                    data.append((threads, wall_time))\n",
    "        \n",
    "raw_df = pandas.DataFrame(data, columns=[\"nb_threads\", \"wall_time\"])\n",
    "\n",
    "df = pandas.DataFrame(list(set(raw_df[\"nb_threads\"])), columns=[\"nb_threads\"])\n",
    "df[\"mean\"] = list(raw_df.groupby(\"nb_threads\").mean()[\"wall_time\"])\n",
    "df[\"std\"] = list(raw_df.groupby(\"nb_threads\").std()[\"wall_time\"])\n",
    "\n",
    "df[\"linear\"] = [df[\"mean\"][0] / x for x in df[\"nb_threads\"]]\n",
    "\n",
    "base = altair.Chart(df).transform_calculate(\n",
    "    ymin=\"datum.mean-datum.std\",\n",
    "    ymax=\"datum.mean+datum.std\"\n",
    ")\n",
    "\n",
    "point = base.mark_circle().encode(\n",
    "    x='nb_threads',\n",
    "    y='mean',\n",
    ")\n",
    "\n",
    "line = base.mark_line().encode(\n",
    "    x='nb_threads',\n",
    "    y='linear'\n",
    ")\n",
    "\n",
    "errorbars = base.mark_errorbar().encode(\n",
    "    x='nb_threads',\n",
    "    y='ymin:Q',\n",
    "    y2='ymax:Q'\n",
    ")\n",
    "\n",
    "point + errorbars + line"
   ]
  }
 ],
 "metadata": {
  "kernelspec": {
   "display_name": "Python 3",
   "language": "python",
   "name": "python3"
  },
  "language_info": {
   "codemirror_mode": {
    "name": "ipython",
    "version": 3
   },
   "file_extension": ".py",
   "mimetype": "text/x-python",
   "name": "python",
   "nbconvert_exporter": "python",
   "pygments_lexer": "ipython3",
   "version": "3.9.2"
  }
 },
 "nbformat": 4,
 "nbformat_minor": 4
}
